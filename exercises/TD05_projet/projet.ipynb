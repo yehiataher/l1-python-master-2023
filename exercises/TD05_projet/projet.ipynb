{
 "cells": [
  {
   "cell_type": "markdown",
   "metadata": {},
   "source": [
    "# TD Git : faire un projet à plusieurs"
   ]
  },
  {
   "cell_type": "markdown",
   "metadata": {},
   "source": [
    "---\n",
    "L'idée de ce TD consiste à apprendre à manipuler Git, et non nécessairement à finir le projet décrit ci-dessous. Il faut tout simplement qu'à la fin du TD, vous sachiez taper les commandes git vues en cours, et que vous ayiez vus des conflits ainsi leur gestion. Par conséquent, il faudra s'amuser à add-commit-pull-push fréquemment, dans le but de faire resurgir des erreurs, puis de demander à vos chargés de TD de vous aider avec. N'hésitez donc pas à jouer avec les commandes git. si le sujet n'est pas fini ce n'est pas grave, le sujet n'est là que pour avoir de la matière pour pouvoir faire des commits.\n",
    "\n",
    "Le chargé de TD doit vous mettre dans des salles zoom par groupe de 2, si le nombre d'étudiants est impair, il y a un groupe de 3, où le rôle de B est dédoublé.\n",
    "\n",
    "Un lien utile pour Git:\n",
    "https://training.github.com/downloads/fr/github-git-cheat-sheet/\n",
    "\n",
    "## 1.Premiers pas avec Git\n",
    "\n",
    "Vous avez normalement un compte GitHub. Vérifiez que vous pouvez vous y connecter. Choisissez un partenaire avec qui vous allez faire ce TD. Installez git si ce n'est pas déjà fait (normalement ca devrait l'être pour avoir accès au cours). Assurez-vous de pouvoir lancer le bash.\n",
    "\n",
    "1.  Configurez les couleurs de git ansi que votre pseudo si ce n'est pas déjà fait. Sur votre ordinateur, créez un répertoire intitulé gitProjects dans votre ordinateur qui contiendra votre version du projet.\n",
    "\n",
    "2. Vous êtes donc par deux. Une personne A et une personne B. Dans ce TD, certaines actions seront à réaliser par A et/ou par B. Décidez donc maintenant qui est A et qui est B.\n",
    "\n",
    "3. A crée un nouveau projet intitulé td_git sous GitHub, en se connectant à son compte, puis en choisissant `New repository` dans le menu accessible via le signe `+` en haut à droite de Github (attention à ne pas choisir `New project` dans ce menu). En créant un nouveau projet, GitHub propose d'initialiser le dépot avec un README. Faites le et remplissez le README en expliquant que ce projet permet de traiter de manière différente un texte en python. N'ajoutez pas de gitignore ou de licence.\n",
    "\n",
    "4.  A invite B (toujours sous GitHub) à participer au projet. Pour cela, sur la page du projet, aller dans le menu \"Settings\", puis choisir \"Manage access\", puis le bouton vert \"invite a collaborator\", et enfin, inscrire le nom d'utilisateur github de B (devant être sous la forme uvsqXXX, où XXX est le numéro d'étudiant). \n",
    "\n",
    "5. B doit accepter l'invitation depuis sa boîte mail (vérifiez le dossier spam) ou bien via les notifications sur son compte github (cloche en haut a gauche). À cette étape, A et B ont les droits sur le projet qui est sur github. \n",
    "\n",
    "6. Réalisez (A et B) votre premier clone du projet comme vu en cours, avec le protocole HTTPS.\n",
    "\n",
    "7. B rajoute le fichier (vide pour le moment) `traitementdetexte.py` dans le dépot github via la ligne de commande. C'est votre premier commit + push. Entre chaque opération, faites git status.\n",
    "\n",
    "8. A réalise son premier pull ! Maintenant, le fichier du TD est dans le dépot Git, vous pouvez travailler dessus séparément et localement.\n",
    "\n",
    "## 2.Début du projet: l'interface\n",
    "Nous allons donc réaliser un projet qui va permettre de traiter du texte, nous allons vouloir implémenter plusieurs fonctionnalités différentes et se séparer les tâches. À la fin, seul le code qui fonctionne doit être présent dans le dépôt github. Seul le fichier `traitementdetexte.py` doit être déposé et mis à jour dans votre dépôt git. Voici les fonctionnalités que l'on vous demande d'implémenter. \n",
    "    1. Transformer un texte de manière à ce que l'on enlève tous les caractères spéciaux ET qu'on enlève les accents. On voudra aussi transformer un texte et l'écrire en majuscules.\n",
    "    2. On voudra donner la possibilité à l'utilisateur de prendre deux textes en entrée et de savoir si au moins une phrase d'un texte a été recopiée dans l'autre texte. \n",
    "    3. un utilisateur doit pouvoir, avec votre code, réaliser facilement plusieurs traitements sur un texte qui serait écrit dans un fichier texte présent sur votre ordinateur à un autre endroit. On veut que l'utilisateur puisse, sans rééxécuter le code, rentrer le chemin du fichier (ou des fichiers) en entrée du programme. \n",
    "    4. On veut pouvoir chiffrer un texte sans espace et sans caractères spéciaux et en majuscules à l'aide du code de César (on aura besoin de chercher sur internet et d'utiliser le code ASCII). On voudra aussi pouvoir chiffrer un texte avec le chiffre de Vigenere (pareillement, on n'hésitera pas à aller sur internet). \n",
    "\n",
    "9. Travail de A: après avoir discuté de la manière de coder cela, partagez vous le travail. N'oubliez pas de commit et de push quelques fois, afin que B puisse commencer à travailler de son côté. Le travail de A consistera dans un premier temps à coder la manière dont l'utilisateur interagira avec le programme.\n",
    "\n",
    "10. Travail de B: pendant que A réalise petit à petit l'interface, commencez à réaliser les fonctions qui permettent de traiter du texte (deux premiers points). N'oubliez pas non plus de faire des tests, des commits, des pulls (et des pushs) pour réaliser un travail cohérent avec A.\n",
    "\n",
    "11. (optionnel, avancé) Générez une clef ssh et ajoutez là à votre compte GitHub, afin de pouvoir pull et push sans avoir à donner votre nom d'utilisateur et mot de passe (il faut aussi changer d'url de dépot git).\n",
    "\n",
    "Tout ce qui suit doit être réalisé à deux, c'est à vous de vous organiser.\n",
    "\n",
    "12. Continuez jusqu'à avoir programmé tout jusqu'au 4ème point.\n",
    "\n",
    "13. Faites en sorte que votre programme écrive les résultats dans un autre fichier texte.\n",
    "\n",
    "14. Quand vous avez fini cela, on peut enfin s'intéresser à une manière de décrypter un texte codé avec César et/ou Vigénère. Essayez de décrypter les textes donnés.\n",
    "15. (Avancé) On va maintenant essayer de programmer une fonction simple, qui prend en entrée deux textes et doit renvoyer un pourcentage de ressemblance entre les deux textes. Essayez de réfléchir à deux comment vous feriez cela. On pourra compter en succesions de mots ou en succesions de lettres qui se retrouvent dans les deux textes."
   ]
  }
 ],
 "metadata": {
  "kernelspec": {
   "display_name": "Python 3",
   "language": "python",
   "name": "python3"
  },
  "language_info": {
   "codemirror_mode": {
    "name": "ipython",
    "version": 3
   },
   "file_extension": ".py",
   "mimetype": "text/x-python",
   "name": "python",
   "nbconvert_exporter": "python",
   "pygments_lexer": "ipython3",
   "version": "3.8.3"
  }
 },
 "nbformat": 4,
 "nbformat_minor": 1
}
